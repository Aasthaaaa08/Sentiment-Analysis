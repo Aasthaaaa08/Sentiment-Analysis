{
 "cells": [
  {
   "cell_type": "code",
   "execution_count": 1,
   "id": "b2654f4e-26f4-4701-a922-0baddd886d3b",
   "metadata": {},
   "outputs": [],
   "source": [
    "import pandas as pd\n",
    "import spacy \n",
    "from sklearn.feature_extraction.text import TfidfVectorizer\n",
    "from sklearn.model_selection import train_test_split"
   ]
  },
  {
   "cell_type": "code",
   "execution_count": 2,
   "id": "2a17ddc2-11d3-4ca6-93a8-5565b40c7854",
   "metadata": {},
   "outputs": [
    {
     "name": "stdout",
     "output_type": "stream",
     "text": [
      "C:\\Users\\91981\\Sentiment Analysis\n"
     ]
    }
   ],
   "source": [
    "import os; print(os.getcwd())"
   ]
  },
  {
   "cell_type": "code",
   "execution_count": 3,
   "id": "6a9ec13e-9224-4d49-b4d3-9885b9c9f785",
   "metadata": {},
   "outputs": [],
   "source": [
    "df = pd.read_csv('C:/Users/91981/Sentiment Analysis/twitter_training.csv')"
   ]
  },
  {
   "cell_type": "code",
   "execution_count": 4,
   "id": "665a2f86-d106-4d34-8283-1de5b8645aaf",
   "metadata": {},
   "outputs": [
    {
     "data": {
      "text/html": [
       "<div>\n",
       "<style scoped>\n",
       "    .dataframe tbody tr th:only-of-type {\n",
       "        vertical-align: middle;\n",
       "    }\n",
       "\n",
       "    .dataframe tbody tr th {\n",
       "        vertical-align: top;\n",
       "    }\n",
       "\n",
       "    .dataframe thead th {\n",
       "        text-align: right;\n",
       "    }\n",
       "</style>\n",
       "<table border=\"1\" class=\"dataframe\">\n",
       "  <thead>\n",
       "    <tr style=\"text-align: right;\">\n",
       "      <th></th>\n",
       "      <th>2401</th>\n",
       "      <th>Borderlands</th>\n",
       "      <th>Positive</th>\n",
       "      <th>im getting on borderlands and i will murder you all ,</th>\n",
       "    </tr>\n",
       "  </thead>\n",
       "  <tbody>\n",
       "    <tr>\n",
       "      <th>0</th>\n",
       "      <td>2401</td>\n",
       "      <td>Borderlands</td>\n",
       "      <td>Positive</td>\n",
       "      <td>I am coming to the borders and I will kill you...</td>\n",
       "    </tr>\n",
       "    <tr>\n",
       "      <th>1</th>\n",
       "      <td>2401</td>\n",
       "      <td>Borderlands</td>\n",
       "      <td>Positive</td>\n",
       "      <td>im getting on borderlands and i will kill you ...</td>\n",
       "    </tr>\n",
       "    <tr>\n",
       "      <th>2</th>\n",
       "      <td>2401</td>\n",
       "      <td>Borderlands</td>\n",
       "      <td>Positive</td>\n",
       "      <td>im coming on borderlands and i will murder you...</td>\n",
       "    </tr>\n",
       "    <tr>\n",
       "      <th>3</th>\n",
       "      <td>2401</td>\n",
       "      <td>Borderlands</td>\n",
       "      <td>Positive</td>\n",
       "      <td>im getting on borderlands 2 and i will murder ...</td>\n",
       "    </tr>\n",
       "    <tr>\n",
       "      <th>4</th>\n",
       "      <td>2401</td>\n",
       "      <td>Borderlands</td>\n",
       "      <td>Positive</td>\n",
       "      <td>im getting into borderlands and i can murder y...</td>\n",
       "    </tr>\n",
       "  </tbody>\n",
       "</table>\n",
       "</div>"
      ],
      "text/plain": [
       "   2401  Borderlands  Positive  \\\n",
       "0  2401  Borderlands  Positive   \n",
       "1  2401  Borderlands  Positive   \n",
       "2  2401  Borderlands  Positive   \n",
       "3  2401  Borderlands  Positive   \n",
       "4  2401  Borderlands  Positive   \n",
       "\n",
       "  im getting on borderlands and i will murder you all ,  \n",
       "0  I am coming to the borders and I will kill you...     \n",
       "1  im getting on borderlands and i will kill you ...     \n",
       "2  im coming on borderlands and i will murder you...     \n",
       "3  im getting on borderlands 2 and i will murder ...     \n",
       "4  im getting into borderlands and i can murder y...     "
      ]
     },
     "execution_count": 4,
     "metadata": {},
     "output_type": "execute_result"
    }
   ],
   "source": [
    "df.head()"
   ]
  },
  {
   "cell_type": "code",
   "execution_count": 5,
   "id": "0e6e9e24-cb56-46c7-8485-a8d561f0f126",
   "metadata": {},
   "outputs": [],
   "source": [
    "df.drop( columns = ['2401'], inplace = True)"
   ]
  },
  {
   "cell_type": "code",
   "execution_count": 6,
   "id": "d4ecf780-1c3d-48fd-95a9-d59eb4023d50",
   "metadata": {},
   "outputs": [
    {
     "data": {
      "text/html": [
       "<div>\n",
       "<style scoped>\n",
       "    .dataframe tbody tr th:only-of-type {\n",
       "        vertical-align: middle;\n",
       "    }\n",
       "\n",
       "    .dataframe tbody tr th {\n",
       "        vertical-align: top;\n",
       "    }\n",
       "\n",
       "    .dataframe thead th {\n",
       "        text-align: right;\n",
       "    }\n",
       "</style>\n",
       "<table border=\"1\" class=\"dataframe\">\n",
       "  <thead>\n",
       "    <tr style=\"text-align: right;\">\n",
       "      <th></th>\n",
       "      <th>Borderlands</th>\n",
       "      <th>Positive</th>\n",
       "      <th>im getting on borderlands and i will murder you all ,</th>\n",
       "    </tr>\n",
       "  </thead>\n",
       "  <tbody>\n",
       "    <tr>\n",
       "      <th>0</th>\n",
       "      <td>Borderlands</td>\n",
       "      <td>Positive</td>\n",
       "      <td>I am coming to the borders and I will kill you...</td>\n",
       "    </tr>\n",
       "    <tr>\n",
       "      <th>1</th>\n",
       "      <td>Borderlands</td>\n",
       "      <td>Positive</td>\n",
       "      <td>im getting on borderlands and i will kill you ...</td>\n",
       "    </tr>\n",
       "    <tr>\n",
       "      <th>2</th>\n",
       "      <td>Borderlands</td>\n",
       "      <td>Positive</td>\n",
       "      <td>im coming on borderlands and i will murder you...</td>\n",
       "    </tr>\n",
       "    <tr>\n",
       "      <th>3</th>\n",
       "      <td>Borderlands</td>\n",
       "      <td>Positive</td>\n",
       "      <td>im getting on borderlands 2 and i will murder ...</td>\n",
       "    </tr>\n",
       "    <tr>\n",
       "      <th>4</th>\n",
       "      <td>Borderlands</td>\n",
       "      <td>Positive</td>\n",
       "      <td>im getting into borderlands and i can murder y...</td>\n",
       "    </tr>\n",
       "  </tbody>\n",
       "</table>\n",
       "</div>"
      ],
      "text/plain": [
       "   Borderlands  Positive im getting on borderlands and i will murder you all ,\n",
       "0  Borderlands  Positive  I am coming to the borders and I will kill you...   \n",
       "1  Borderlands  Positive  im getting on borderlands and i will kill you ...   \n",
       "2  Borderlands  Positive  im coming on borderlands and i will murder you...   \n",
       "3  Borderlands  Positive  im getting on borderlands 2 and i will murder ...   \n",
       "4  Borderlands  Positive  im getting into borderlands and i can murder y...   "
      ]
     },
     "execution_count": 6,
     "metadata": {},
     "output_type": "execute_result"
    }
   ],
   "source": [
    "df.head()"
   ]
  },
  {
   "cell_type": "code",
   "execution_count": 7,
   "id": "46a0da6e-854b-46af-9815-a71bf87a3dc7",
   "metadata": {},
   "outputs": [
    {
     "data": {
      "text/plain": [
       "Index(['Borderlands', 'Positive',\n",
       "       'im getting on borderlands and i will murder you all ,'],\n",
       "      dtype='object')"
      ]
     },
     "execution_count": 7,
     "metadata": {},
     "output_type": "execute_result"
    }
   ],
   "source": [
    "df.columns"
   ]
  },
  {
   "cell_type": "code",
   "execution_count": 8,
   "id": "f442bfe5-d2d5-4a9f-928d-c6110042389b",
   "metadata": {},
   "outputs": [],
   "source": [
    "df.rename(columns = {'Borderlands' : 'Game_Name', 'Positive' : 'Sentiment', 'im getting on borderlands and i will murder you all ,' : 'tweet'}, inplace=True)"
   ]
  },
  {
   "cell_type": "code",
   "execution_count": 9,
   "id": "11db24cc-2442-4273-900f-a9f18be41fad",
   "metadata": {},
   "outputs": [
    {
     "data": {
      "text/plain": [
       "Index(['Game_Name', 'Sentiment', 'tweet'], dtype='object')"
      ]
     },
     "execution_count": 9,
     "metadata": {},
     "output_type": "execute_result"
    }
   ],
   "source": [
    "df.columns"
   ]
  },
  {
   "cell_type": "code",
   "execution_count": 10,
   "id": "1b238dd0-1fba-4214-99b4-c8ca64486657",
   "metadata": {},
   "outputs": [
    {
     "data": {
      "text/plain": [
       "(73995, 3)"
      ]
     },
     "execution_count": 10,
     "metadata": {},
     "output_type": "execute_result"
    }
   ],
   "source": [
    "df.isna().sum()\n",
    "df.shape\n",
    "df =  df.dropna()\n",
    "df.shape"
   ]
  },
  {
   "cell_type": "code",
   "execution_count": 11,
   "id": "f6c117af-2afa-4036-86cf-a57058bf3723",
   "metadata": {},
   "outputs": [
    {
     "data": {
      "text/plain": [
       "Sentiment\n",
       "Negative      22358\n",
       "Positive      20654\n",
       "Neutral       18108\n",
       "Irrelevant    12875\n",
       "Name: count, dtype: int64"
      ]
     },
     "execution_count": 11,
     "metadata": {},
     "output_type": "execute_result"
    }
   ],
   "source": [
    "df.Sentiment.value_counts()"
   ]
  },
  {
   "cell_type": "code",
   "execution_count": 12,
   "id": "12e502b7-2484-4ba4-8247-e927639c88a9",
   "metadata": {},
   "outputs": [
    {
     "data": {
      "text/plain": [
       "Sentiment\n",
       "Positive      2000\n",
       "Negative      2000\n",
       "Neutral       2000\n",
       "Irrelevant    2000\n",
       "Name: count, dtype: int64"
      ]
     },
     "execution_count": 12,
     "metadata": {},
     "output_type": "execute_result"
    }
   ],
   "source": [
    "df_positive=df[df.Sentiment == 'Positive'].iloc[:2000]\n",
    "df_negative=df[df.Sentiment == 'Negative'].iloc[:2000]\n",
    "df_neutral=df[df.Sentiment == 'Neutral'].iloc[:2000]\n",
    "df_irrelevant=df[df.Sentiment == 'Irrelevant'].iloc[:2000]\n",
    "df2 = pd.concat([df_positive,df_negative,df_neutral,df_irrelevant])\n",
    "df2.Sentiment.value_counts()"
   ]
  },
  {
   "cell_type": "code",
   "execution_count": 13,
   "id": "e750ee00-dd9d-45bc-a18d-90c2fbc3cfa5",
   "metadata": {},
   "outputs": [],
   "source": [
    "df2 = pd.concat([df_positive,df_negative,df_neutral,df_irrelevant], axis=0)"
   ]
  },
  {
   "cell_type": "code",
   "execution_count": 14,
   "id": "facde3b2-8a40-41e9-83d7-148d7d87b9de",
   "metadata": {},
   "outputs": [
    {
     "data": {
      "text/plain": [
       "Sentiment\n",
       "Positive      2000\n",
       "Negative      2000\n",
       "Neutral       2000\n",
       "Irrelevant    2000\n",
       "Name: count, dtype: int64"
      ]
     },
     "execution_count": 14,
     "metadata": {},
     "output_type": "execute_result"
    }
   ],
   "source": [
    "df2.Sentiment.value_counts()"
   ]
  },
  {
   "cell_type": "code",
   "execution_count": 15,
   "id": "c61f36ec-70d6-4b39-b4c9-2deee6a56b74",
   "metadata": {},
   "outputs": [
    {
     "data": {
      "text/html": [
       "<div>\n",
       "<style scoped>\n",
       "    .dataframe tbody tr th:only-of-type {\n",
       "        vertical-align: middle;\n",
       "    }\n",
       "\n",
       "    .dataframe tbody tr th {\n",
       "        vertical-align: top;\n",
       "    }\n",
       "\n",
       "    .dataframe thead th {\n",
       "        text-align: right;\n",
       "    }\n",
       "</style>\n",
       "<table border=\"1\" class=\"dataframe\">\n",
       "  <thead>\n",
       "    <tr style=\"text-align: right;\">\n",
       "      <th></th>\n",
       "      <th>Game_Name</th>\n",
       "      <th>Sentiment</th>\n",
       "      <th>tweet</th>\n",
       "    </tr>\n",
       "  </thead>\n",
       "  <tbody>\n",
       "    <tr>\n",
       "      <th>0</th>\n",
       "      <td>Borderlands</td>\n",
       "      <td>Positive</td>\n",
       "      <td>I am coming to the borders and I will kill you...</td>\n",
       "    </tr>\n",
       "    <tr>\n",
       "      <th>1</th>\n",
       "      <td>Borderlands</td>\n",
       "      <td>Positive</td>\n",
       "      <td>im getting on borderlands and i will kill you ...</td>\n",
       "    </tr>\n",
       "    <tr>\n",
       "      <th>2</th>\n",
       "      <td>Borderlands</td>\n",
       "      <td>Positive</td>\n",
       "      <td>im coming on borderlands and i will murder you...</td>\n",
       "    </tr>\n",
       "    <tr>\n",
       "      <th>3</th>\n",
       "      <td>Borderlands</td>\n",
       "      <td>Positive</td>\n",
       "      <td>im getting on borderlands 2 and i will murder ...</td>\n",
       "    </tr>\n",
       "    <tr>\n",
       "      <th>4</th>\n",
       "      <td>Borderlands</td>\n",
       "      <td>Positive</td>\n",
       "      <td>im getting into borderlands and i can murder y...</td>\n",
       "    </tr>\n",
       "    <tr>\n",
       "      <th>5</th>\n",
       "      <td>Borderlands</td>\n",
       "      <td>Positive</td>\n",
       "      <td>So I spent a few hours making something for fu...</td>\n",
       "    </tr>\n",
       "    <tr>\n",
       "      <th>6</th>\n",
       "      <td>Borderlands</td>\n",
       "      <td>Positive</td>\n",
       "      <td>So I spent a couple of hours doing something f...</td>\n",
       "    </tr>\n",
       "    <tr>\n",
       "      <th>7</th>\n",
       "      <td>Borderlands</td>\n",
       "      <td>Positive</td>\n",
       "      <td>So I spent a few hours doing something for fun...</td>\n",
       "    </tr>\n",
       "    <tr>\n",
       "      <th>8</th>\n",
       "      <td>Borderlands</td>\n",
       "      <td>Positive</td>\n",
       "      <td>So I spent a few hours making something for fu...</td>\n",
       "    </tr>\n",
       "    <tr>\n",
       "      <th>9</th>\n",
       "      <td>Borderlands</td>\n",
       "      <td>Positive</td>\n",
       "      <td>2010 So I spent a few hours making something f...</td>\n",
       "    </tr>\n",
       "  </tbody>\n",
       "</table>\n",
       "</div>"
      ],
      "text/plain": [
       "     Game_Name Sentiment                                              tweet\n",
       "0  Borderlands  Positive  I am coming to the borders and I will kill you...\n",
       "1  Borderlands  Positive  im getting on borderlands and i will kill you ...\n",
       "2  Borderlands  Positive  im coming on borderlands and i will murder you...\n",
       "3  Borderlands  Positive  im getting on borderlands 2 and i will murder ...\n",
       "4  Borderlands  Positive  im getting into borderlands and i can murder y...\n",
       "5  Borderlands  Positive  So I spent a few hours making something for fu...\n",
       "6  Borderlands  Positive  So I spent a couple of hours doing something f...\n",
       "7  Borderlands  Positive  So I spent a few hours doing something for fun...\n",
       "8  Borderlands  Positive  So I spent a few hours making something for fu...\n",
       "9  Borderlands  Positive  2010 So I spent a few hours making something f..."
      ]
     },
     "execution_count": 15,
     "metadata": {},
     "output_type": "execute_result"
    }
   ],
   "source": [
    "df2.head(10)"
   ]
  },
  {
   "cell_type": "code",
   "execution_count": 16,
   "id": "92dd3573-b891-4cea-b4c7-fb83e0ca9b3a",
   "metadata": {},
   "outputs": [
    {
     "data": {
      "text/plain": [
       "array(['Borderlands', 'CallOfDutyBlackopsColdWar', 'Amazon', 'Overwatch',\n",
       "       'Xbox(Xseries)'], dtype=object)"
      ]
     },
     "execution_count": 16,
     "metadata": {},
     "output_type": "execute_result"
    }
   ],
   "source": [
    "df2.Game_Name.unique()"
   ]
  },
  {
   "cell_type": "code",
   "execution_count": 17,
   "id": "a3ebba4e-4f5b-4b1a-b188-5d296b66083d",
   "metadata": {},
   "outputs": [],
   "source": [
    "game_df=(pd.get_dummies(df2['Game_Name'])).astype('int')"
   ]
  },
  {
   "cell_type": "code",
   "execution_count": 18,
   "id": "7507bf40-b94c-46f3-92f2-34c97077cd22",
   "metadata": {},
   "outputs": [
    {
     "data": {
      "text/html": [
       "<div>\n",
       "<style scoped>\n",
       "    .dataframe tbody tr th:only-of-type {\n",
       "        vertical-align: middle;\n",
       "    }\n",
       "\n",
       "    .dataframe tbody tr th {\n",
       "        vertical-align: top;\n",
       "    }\n",
       "\n",
       "    .dataframe thead th {\n",
       "        text-align: right;\n",
       "    }\n",
       "</style>\n",
       "<table border=\"1\" class=\"dataframe\">\n",
       "  <thead>\n",
       "    <tr style=\"text-align: right;\">\n",
       "      <th></th>\n",
       "      <th>Amazon</th>\n",
       "      <th>Borderlands</th>\n",
       "      <th>CallOfDutyBlackopsColdWar</th>\n",
       "      <th>Overwatch</th>\n",
       "      <th>Xbox(Xseries)</th>\n",
       "    </tr>\n",
       "  </thead>\n",
       "  <tbody>\n",
       "    <tr>\n",
       "      <th>0</th>\n",
       "      <td>0</td>\n",
       "      <td>1</td>\n",
       "      <td>0</td>\n",
       "      <td>0</td>\n",
       "      <td>0</td>\n",
       "    </tr>\n",
       "    <tr>\n",
       "      <th>1</th>\n",
       "      <td>0</td>\n",
       "      <td>1</td>\n",
       "      <td>0</td>\n",
       "      <td>0</td>\n",
       "      <td>0</td>\n",
       "    </tr>\n",
       "    <tr>\n",
       "      <th>2</th>\n",
       "      <td>0</td>\n",
       "      <td>1</td>\n",
       "      <td>0</td>\n",
       "      <td>0</td>\n",
       "      <td>0</td>\n",
       "    </tr>\n",
       "    <tr>\n",
       "      <th>3</th>\n",
       "      <td>0</td>\n",
       "      <td>1</td>\n",
       "      <td>0</td>\n",
       "      <td>0</td>\n",
       "      <td>0</td>\n",
       "    </tr>\n",
       "    <tr>\n",
       "      <th>4</th>\n",
       "      <td>0</td>\n",
       "      <td>1</td>\n",
       "      <td>0</td>\n",
       "      <td>0</td>\n",
       "      <td>0</td>\n",
       "    </tr>\n",
       "    <tr>\n",
       "      <th>...</th>\n",
       "      <td>...</td>\n",
       "      <td>...</td>\n",
       "      <td>...</td>\n",
       "      <td>...</td>\n",
       "      <td>...</td>\n",
       "    </tr>\n",
       "    <tr>\n",
       "      <th>10628</th>\n",
       "      <td>0</td>\n",
       "      <td>0</td>\n",
       "      <td>0</td>\n",
       "      <td>0</td>\n",
       "      <td>1</td>\n",
       "    </tr>\n",
       "    <tr>\n",
       "      <th>10629</th>\n",
       "      <td>0</td>\n",
       "      <td>0</td>\n",
       "      <td>0</td>\n",
       "      <td>0</td>\n",
       "      <td>1</td>\n",
       "    </tr>\n",
       "    <tr>\n",
       "      <th>10630</th>\n",
       "      <td>0</td>\n",
       "      <td>0</td>\n",
       "      <td>0</td>\n",
       "      <td>0</td>\n",
       "      <td>1</td>\n",
       "    </tr>\n",
       "    <tr>\n",
       "      <th>10631</th>\n",
       "      <td>0</td>\n",
       "      <td>0</td>\n",
       "      <td>0</td>\n",
       "      <td>0</td>\n",
       "      <td>1</td>\n",
       "    </tr>\n",
       "    <tr>\n",
       "      <th>10632</th>\n",
       "      <td>0</td>\n",
       "      <td>0</td>\n",
       "      <td>0</td>\n",
       "      <td>0</td>\n",
       "      <td>1</td>\n",
       "    </tr>\n",
       "  </tbody>\n",
       "</table>\n",
       "<p>8000 rows × 5 columns</p>\n",
       "</div>"
      ],
      "text/plain": [
       "       Amazon  Borderlands  CallOfDutyBlackopsColdWar  Overwatch  \\\n",
       "0           0            1                          0          0   \n",
       "1           0            1                          0          0   \n",
       "2           0            1                          0          0   \n",
       "3           0            1                          0          0   \n",
       "4           0            1                          0          0   \n",
       "...       ...          ...                        ...        ...   \n",
       "10628       0            0                          0          0   \n",
       "10629       0            0                          0          0   \n",
       "10630       0            0                          0          0   \n",
       "10631       0            0                          0          0   \n",
       "10632       0            0                          0          0   \n",
       "\n",
       "       Xbox(Xseries)  \n",
       "0                  0  \n",
       "1                  0  \n",
       "2                  0  \n",
       "3                  0  \n",
       "4                  0  \n",
       "...              ...  \n",
       "10628              1  \n",
       "10629              1  \n",
       "10630              1  \n",
       "10631              1  \n",
       "10632              1  \n",
       "\n",
       "[8000 rows x 5 columns]"
      ]
     },
     "execution_count": 18,
     "metadata": {},
     "output_type": "execute_result"
    }
   ],
   "source": [
    "game_df"
   ]
  },
  {
   "cell_type": "code",
   "execution_count": 19,
   "id": "b07fd56c-55ec-42f2-b0b9-44bb79687413",
   "metadata": {},
   "outputs": [
    {
     "data": {
      "text/plain": [
       "Index(['Game_Name', 'Sentiment', 'tweet'], dtype='object')"
      ]
     },
     "execution_count": 19,
     "metadata": {},
     "output_type": "execute_result"
    }
   ],
   "source": [
    "df2.columns\n"
   ]
  },
  {
   "cell_type": "code",
   "execution_count": 20,
   "id": "05ec1591-e1c3-4d29-b939-68b26000e126",
   "metadata": {},
   "outputs": [
    {
     "data": {
      "text/plain": [
       "(8000, 5)"
      ]
     },
     "execution_count": 20,
     "metadata": {},
     "output_type": "execute_result"
    }
   ],
   "source": [
    "game_df.shape"
   ]
  },
  {
   "cell_type": "code",
   "execution_count": 21,
   "id": "da64b242-c654-47c8-b926-27f01c87b964",
   "metadata": {},
   "outputs": [],
   "source": [
    "nlp = spacy.load('en_core_web_sm')"
   ]
  },
  {
   "cell_type": "code",
   "execution_count": 22,
   "id": "ee719ca0-8f58-4220-9e21-f22a7e494eb6",
   "metadata": {},
   "outputs": [],
   "source": [
    "def lemmatization(text): #lemmatization function is used to convert string to their actual meaning\n",
    "    doc = nlp(text) #input text is loaded in the library\n",
    "    lemmaList = [word.lemma_ for word in doc] #iterates through each word in the spacy document,it extract through lemma and add it in lemma list\n",
    "    return '' .join(lemmaList) #joins all the lemmas in the lemmaList into a single string using the .join method and an empty string ('') as the separator."
   ]
  },
  {
   "cell_type": "code",
   "execution_count": 23,
   "id": "19e0fabf-5e01-4015-b603-4dea1140d222",
   "metadata": {},
   "outputs": [],
   "source": [
    "df2['lemma'] = df2['tweet'].apply(lemmatization)"
   ]
  },
  {
   "cell_type": "code",
   "execution_count": 24,
   "id": "00b25455-6194-4236-aaf3-4f9adcb232de",
   "metadata": {},
   "outputs": [
    {
     "name": "stdout",
     "output_type": "stream",
     "text": [
      "     Game_Name Sentiment                                              tweet  \\\n",
      "0  Borderlands  Positive  I am coming to the borders and I will kill you...   \n",
      "1  Borderlands  Positive  im getting on borderlands and i will kill you ...   \n",
      "2  Borderlands  Positive  im coming on borderlands and i will murder you...   \n",
      "3  Borderlands  Positive  im getting on borderlands 2 and i will murder ...   \n",
      "4  Borderlands  Positive  im getting into borderlands and i can murder y...   \n",
      "5  Borderlands  Positive  So I spent a few hours making something for fu...   \n",
      "6  Borderlands  Positive  So I spent a couple of hours doing something f...   \n",
      "7  Borderlands  Positive  So I spent a few hours doing something for fun...   \n",
      "8  Borderlands  Positive  So I spent a few hours making something for fu...   \n",
      "9  Borderlands  Positive  2010 So I spent a few hours making something f...   \n",
      "\n",
      "                                               lemma  \n",
      "0              IbecometotheborderandIwillkillyouall,  \n",
      "1               ImgetonborderlandandIwillkillyouall,  \n",
      "2            ImcomeonborderlandandIwillmurderyouall,  \n",
      "3           Imgetonborderland2andIwillmurderyouIall,  \n",
      "4            ImgetintoborderlandandIcanmurderyouall,  \n",
      "5  soIspendafewhourmakesomethingforfun...ifyoudon...  \n",
      "6  soIspendacoupleofhourdosomethingforfun...ifyou...  \n",
      "7  soIspendafewhourdosomethingforfun...ifyoudonot...  \n",
      "8  soIspendafewhourmakesomethingforfun...ifyoudon...  \n",
      "9  2010soIspendafewhourmakesomethingforfun...ifyo...  \n"
     ]
    }
   ],
   "source": [
    "print(df2.head(10))"
   ]
  },
  {
   "cell_type": "code",
   "execution_count": 25,
   "id": "419f7767-2d91-44fd-a621-50d4f3ec091b",
   "metadata": {},
   "outputs": [],
   "source": [
    "def remove_stopwords(text):\n",
    "    doc = nlp(text)\n",
    "    no_stopwords = [word.text for word in doc if not word.is_stop and not word.is_punct]\n",
    "    return ''.join(no_stopwords)"
   ]
  },
  {
   "cell_type": "code",
   "execution_count": 26,
   "id": "95614962-936f-4fff-9417-eece4dbfd0bd",
   "metadata": {},
   "outputs": [],
   "source": [
    "df2['final'] = df2['lemma'].apply(remove_stopwords)"
   ]
  },
  {
   "cell_type": "code",
   "execution_count": 27,
   "id": "c5d12b56-cb11-4b89-819e-a2592d2afcc7",
   "metadata": {},
   "outputs": [
    {
     "data": {
      "text/html": [
       "<div>\n",
       "<style scoped>\n",
       "    .dataframe tbody tr th:only-of-type {\n",
       "        vertical-align: middle;\n",
       "    }\n",
       "\n",
       "    .dataframe tbody tr th {\n",
       "        vertical-align: top;\n",
       "    }\n",
       "\n",
       "    .dataframe thead th {\n",
       "        text-align: right;\n",
       "    }\n",
       "</style>\n",
       "<table border=\"1\" class=\"dataframe\">\n",
       "  <thead>\n",
       "    <tr style=\"text-align: right;\">\n",
       "      <th></th>\n",
       "      <th>Game_Name</th>\n",
       "      <th>Sentiment</th>\n",
       "      <th>tweet</th>\n",
       "      <th>lemma</th>\n",
       "      <th>final</th>\n",
       "    </tr>\n",
       "  </thead>\n",
       "  <tbody>\n",
       "    <tr>\n",
       "      <th>0</th>\n",
       "      <td>Borderlands</td>\n",
       "      <td>Positive</td>\n",
       "      <td>I am coming to the borders and I will kill you...</td>\n",
       "      <td>IbecometotheborderandIwillkillyouall,</td>\n",
       "      <td>IbecometotheborderandIwillkillyouall</td>\n",
       "    </tr>\n",
       "    <tr>\n",
       "      <th>1</th>\n",
       "      <td>Borderlands</td>\n",
       "      <td>Positive</td>\n",
       "      <td>im getting on borderlands and i will kill you ...</td>\n",
       "      <td>ImgetonborderlandandIwillkillyouall,</td>\n",
       "      <td>ImgetonborderlandandIwillkillyouall</td>\n",
       "    </tr>\n",
       "    <tr>\n",
       "      <th>2</th>\n",
       "      <td>Borderlands</td>\n",
       "      <td>Positive</td>\n",
       "      <td>im coming on borderlands and i will murder you...</td>\n",
       "      <td>ImcomeonborderlandandIwillmurderyouall,</td>\n",
       "      <td>ImcomeonborderlandandIwillmurderyouall</td>\n",
       "    </tr>\n",
       "    <tr>\n",
       "      <th>3</th>\n",
       "      <td>Borderlands</td>\n",
       "      <td>Positive</td>\n",
       "      <td>im getting on borderlands 2 and i will murder ...</td>\n",
       "      <td>Imgetonborderland2andIwillmurderyouIall,</td>\n",
       "      <td>Imgetonborderland2andIwillmurderyouIall</td>\n",
       "    </tr>\n",
       "    <tr>\n",
       "      <th>4</th>\n",
       "      <td>Borderlands</td>\n",
       "      <td>Positive</td>\n",
       "      <td>im getting into borderlands and i can murder y...</td>\n",
       "      <td>ImgetintoborderlandandIcanmurderyouall,</td>\n",
       "      <td>ImgetintoborderlandandIcanmurderyouall</td>\n",
       "    </tr>\n",
       "    <tr>\n",
       "      <th>5</th>\n",
       "      <td>Borderlands</td>\n",
       "      <td>Positive</td>\n",
       "      <td>So I spent a few hours making something for fu...</td>\n",
       "      <td>soIspendafewhourmakesomethingforfun...ifyoudon...</td>\n",
       "      <td>soIspendafewhourmakesomethingforfunifyoudonotk...</td>\n",
       "    </tr>\n",
       "    <tr>\n",
       "      <th>6</th>\n",
       "      <td>Borderlands</td>\n",
       "      <td>Positive</td>\n",
       "      <td>So I spent a couple of hours doing something f...</td>\n",
       "      <td>soIspendacoupleofhourdosomethingforfun...ifyou...</td>\n",
       "      <td>soIspendacoupleofhourdosomethingforfunifyoudon...</td>\n",
       "    </tr>\n",
       "    <tr>\n",
       "      <th>7</th>\n",
       "      <td>Borderlands</td>\n",
       "      <td>Positive</td>\n",
       "      <td>So I spent a few hours doing something for fun...</td>\n",
       "      <td>soIspendafewhourdosomethingforfun...ifyoudonot...</td>\n",
       "      <td>soIspendafewhourdosomethingforfunifyoudonotkno...</td>\n",
       "    </tr>\n",
       "    <tr>\n",
       "      <th>8</th>\n",
       "      <td>Borderlands</td>\n",
       "      <td>Positive</td>\n",
       "      <td>So I spent a few hours making something for fu...</td>\n",
       "      <td>soIspendafewhourmakesomethingforfun...ifyoudon...</td>\n",
       "      <td>soIspendafewhourmakesomethingforfunifyoudonotk...</td>\n",
       "    </tr>\n",
       "    <tr>\n",
       "      <th>9</th>\n",
       "      <td>Borderlands</td>\n",
       "      <td>Positive</td>\n",
       "      <td>2010 So I spent a few hours making something f...</td>\n",
       "      <td>2010soIspendafewhourmakesomethingforfun...ifyo...</td>\n",
       "      <td>2010soIspendafewhourmakesomethingforfunifyoudo...</td>\n",
       "    </tr>\n",
       "  </tbody>\n",
       "</table>\n",
       "</div>"
      ],
      "text/plain": [
       "     Game_Name Sentiment                                              tweet  \\\n",
       "0  Borderlands  Positive  I am coming to the borders and I will kill you...   \n",
       "1  Borderlands  Positive  im getting on borderlands and i will kill you ...   \n",
       "2  Borderlands  Positive  im coming on borderlands and i will murder you...   \n",
       "3  Borderlands  Positive  im getting on borderlands 2 and i will murder ...   \n",
       "4  Borderlands  Positive  im getting into borderlands and i can murder y...   \n",
       "5  Borderlands  Positive  So I spent a few hours making something for fu...   \n",
       "6  Borderlands  Positive  So I spent a couple of hours doing something f...   \n",
       "7  Borderlands  Positive  So I spent a few hours doing something for fun...   \n",
       "8  Borderlands  Positive  So I spent a few hours making something for fu...   \n",
       "9  Borderlands  Positive  2010 So I spent a few hours making something f...   \n",
       "\n",
       "                                               lemma  \\\n",
       "0              IbecometotheborderandIwillkillyouall,   \n",
       "1               ImgetonborderlandandIwillkillyouall,   \n",
       "2            ImcomeonborderlandandIwillmurderyouall,   \n",
       "3           Imgetonborderland2andIwillmurderyouIall,   \n",
       "4            ImgetintoborderlandandIcanmurderyouall,   \n",
       "5  soIspendafewhourmakesomethingforfun...ifyoudon...   \n",
       "6  soIspendacoupleofhourdosomethingforfun...ifyou...   \n",
       "7  soIspendafewhourdosomethingforfun...ifyoudonot...   \n",
       "8  soIspendafewhourmakesomethingforfun...ifyoudon...   \n",
       "9  2010soIspendafewhourmakesomethingforfun...ifyo...   \n",
       "\n",
       "                                               final  \n",
       "0               IbecometotheborderandIwillkillyouall  \n",
       "1                ImgetonborderlandandIwillkillyouall  \n",
       "2             ImcomeonborderlandandIwillmurderyouall  \n",
       "3            Imgetonborderland2andIwillmurderyouIall  \n",
       "4             ImgetintoborderlandandIcanmurderyouall  \n",
       "5  soIspendafewhourmakesomethingforfunifyoudonotk...  \n",
       "6  soIspendacoupleofhourdosomethingforfunifyoudon...  \n",
       "7  soIspendafewhourdosomethingforfunifyoudonotkno...  \n",
       "8  soIspendafewhourmakesomethingforfunifyoudonotk...  \n",
       "9  2010soIspendafewhourmakesomethingforfunifyoudo...  "
      ]
     },
     "execution_count": 27,
     "metadata": {},
     "output_type": "execute_result"
    }
   ],
   "source": [
    "df2.head(10)"
   ]
  },
  {
   "cell_type": "code",
   "execution_count": 28,
   "id": "8a1127b0-c448-44ce-954c-da61fcc8d60b",
   "metadata": {},
   "outputs": [],
   "source": [
    "df2.drop(columns = ['tweet','lemma'],inplace=True)"
   ]
  },
  {
   "cell_type": "code",
   "execution_count": 29,
   "id": "8a0fb587-2e2c-47b1-8c97-1c5839f69aa4",
   "metadata": {},
   "outputs": [
    {
     "data": {
      "text/html": [
       "<div>\n",
       "<style scoped>\n",
       "    .dataframe tbody tr th:only-of-type {\n",
       "        vertical-align: middle;\n",
       "    }\n",
       "\n",
       "    .dataframe tbody tr th {\n",
       "        vertical-align: top;\n",
       "    }\n",
       "\n",
       "    .dataframe thead th {\n",
       "        text-align: right;\n",
       "    }\n",
       "</style>\n",
       "<table border=\"1\" class=\"dataframe\">\n",
       "  <thead>\n",
       "    <tr style=\"text-align: right;\">\n",
       "      <th></th>\n",
       "      <th>Game_Name</th>\n",
       "      <th>Sentiment</th>\n",
       "      <th>final</th>\n",
       "    </tr>\n",
       "  </thead>\n",
       "  <tbody>\n",
       "    <tr>\n",
       "      <th>0</th>\n",
       "      <td>Borderlands</td>\n",
       "      <td>Positive</td>\n",
       "      <td>IbecometotheborderandIwillkillyouall</td>\n",
       "    </tr>\n",
       "    <tr>\n",
       "      <th>1</th>\n",
       "      <td>Borderlands</td>\n",
       "      <td>Positive</td>\n",
       "      <td>ImgetonborderlandandIwillkillyouall</td>\n",
       "    </tr>\n",
       "    <tr>\n",
       "      <th>2</th>\n",
       "      <td>Borderlands</td>\n",
       "      <td>Positive</td>\n",
       "      <td>ImcomeonborderlandandIwillmurderyouall</td>\n",
       "    </tr>\n",
       "    <tr>\n",
       "      <th>3</th>\n",
       "      <td>Borderlands</td>\n",
       "      <td>Positive</td>\n",
       "      <td>Imgetonborderland2andIwillmurderyouIall</td>\n",
       "    </tr>\n",
       "    <tr>\n",
       "      <th>4</th>\n",
       "      <td>Borderlands</td>\n",
       "      <td>Positive</td>\n",
       "      <td>ImgetintoborderlandandIcanmurderyouall</td>\n",
       "    </tr>\n",
       "    <tr>\n",
       "      <th>5</th>\n",
       "      <td>Borderlands</td>\n",
       "      <td>Positive</td>\n",
       "      <td>soIspendafewhourmakesomethingforfunifyoudonotk...</td>\n",
       "    </tr>\n",
       "    <tr>\n",
       "      <th>6</th>\n",
       "      <td>Borderlands</td>\n",
       "      <td>Positive</td>\n",
       "      <td>soIspendacoupleofhourdosomethingforfunifyoudon...</td>\n",
       "    </tr>\n",
       "    <tr>\n",
       "      <th>7</th>\n",
       "      <td>Borderlands</td>\n",
       "      <td>Positive</td>\n",
       "      <td>soIspendafewhourdosomethingforfunifyoudonotkno...</td>\n",
       "    </tr>\n",
       "    <tr>\n",
       "      <th>8</th>\n",
       "      <td>Borderlands</td>\n",
       "      <td>Positive</td>\n",
       "      <td>soIspendafewhourmakesomethingforfunifyoudonotk...</td>\n",
       "    </tr>\n",
       "    <tr>\n",
       "      <th>9</th>\n",
       "      <td>Borderlands</td>\n",
       "      <td>Positive</td>\n",
       "      <td>2010soIspendafewhourmakesomethingforfunifyoudo...</td>\n",
       "    </tr>\n",
       "  </tbody>\n",
       "</table>\n",
       "</div>"
      ],
      "text/plain": [
       "     Game_Name Sentiment                                              final\n",
       "0  Borderlands  Positive               IbecometotheborderandIwillkillyouall\n",
       "1  Borderlands  Positive                ImgetonborderlandandIwillkillyouall\n",
       "2  Borderlands  Positive             ImcomeonborderlandandIwillmurderyouall\n",
       "3  Borderlands  Positive            Imgetonborderland2andIwillmurderyouIall\n",
       "4  Borderlands  Positive             ImgetintoborderlandandIcanmurderyouall\n",
       "5  Borderlands  Positive  soIspendafewhourmakesomethingforfunifyoudonotk...\n",
       "6  Borderlands  Positive  soIspendacoupleofhourdosomethingforfunifyoudon...\n",
       "7  Borderlands  Positive  soIspendafewhourdosomethingforfunifyoudonotkno...\n",
       "8  Borderlands  Positive  soIspendafewhourmakesomethingforfunifyoudonotk...\n",
       "9  Borderlands  Positive  2010soIspendafewhourmakesomethingforfunifyoudo..."
      ]
     },
     "execution_count": 29,
     "metadata": {},
     "output_type": "execute_result"
    }
   ],
   "source": [
    "df2.head(10)"
   ]
  },
  {
   "cell_type": "code",
   "execution_count": 30,
   "id": "8380ea7e-24eb-4cf2-af3b-965c0e6a8a49",
   "metadata": {},
   "outputs": [],
   "source": [
    "sentiment_df = pd.concat([df2, game_df], axis=1)"
   ]
  },
  {
   "cell_type": "code",
   "execution_count": 31,
   "id": "db21394a-a3dd-4020-8d20-2a1f2f224065",
   "metadata": {},
   "outputs": [
    {
     "data": {
      "text/html": [
       "<div>\n",
       "<style scoped>\n",
       "    .dataframe tbody tr th:only-of-type {\n",
       "        vertical-align: middle;\n",
       "    }\n",
       "\n",
       "    .dataframe tbody tr th {\n",
       "        vertical-align: top;\n",
       "    }\n",
       "\n",
       "    .dataframe thead th {\n",
       "        text-align: right;\n",
       "    }\n",
       "</style>\n",
       "<table border=\"1\" class=\"dataframe\">\n",
       "  <thead>\n",
       "    <tr style=\"text-align: right;\">\n",
       "      <th></th>\n",
       "      <th>Game_Name</th>\n",
       "      <th>Sentiment</th>\n",
       "      <th>final</th>\n",
       "      <th>Amazon</th>\n",
       "      <th>Borderlands</th>\n",
       "      <th>CallOfDutyBlackopsColdWar</th>\n",
       "      <th>Overwatch</th>\n",
       "      <th>Xbox(Xseries)</th>\n",
       "    </tr>\n",
       "  </thead>\n",
       "  <tbody>\n",
       "    <tr>\n",
       "      <th>0</th>\n",
       "      <td>Borderlands</td>\n",
       "      <td>Positive</td>\n",
       "      <td>IbecometotheborderandIwillkillyouall</td>\n",
       "      <td>0</td>\n",
       "      <td>1</td>\n",
       "      <td>0</td>\n",
       "      <td>0</td>\n",
       "      <td>0</td>\n",
       "    </tr>\n",
       "    <tr>\n",
       "      <th>1</th>\n",
       "      <td>Borderlands</td>\n",
       "      <td>Positive</td>\n",
       "      <td>ImgetonborderlandandIwillkillyouall</td>\n",
       "      <td>0</td>\n",
       "      <td>1</td>\n",
       "      <td>0</td>\n",
       "      <td>0</td>\n",
       "      <td>0</td>\n",
       "    </tr>\n",
       "    <tr>\n",
       "      <th>2</th>\n",
       "      <td>Borderlands</td>\n",
       "      <td>Positive</td>\n",
       "      <td>ImcomeonborderlandandIwillmurderyouall</td>\n",
       "      <td>0</td>\n",
       "      <td>1</td>\n",
       "      <td>0</td>\n",
       "      <td>0</td>\n",
       "      <td>0</td>\n",
       "    </tr>\n",
       "    <tr>\n",
       "      <th>3</th>\n",
       "      <td>Borderlands</td>\n",
       "      <td>Positive</td>\n",
       "      <td>Imgetonborderland2andIwillmurderyouIall</td>\n",
       "      <td>0</td>\n",
       "      <td>1</td>\n",
       "      <td>0</td>\n",
       "      <td>0</td>\n",
       "      <td>0</td>\n",
       "    </tr>\n",
       "    <tr>\n",
       "      <th>4</th>\n",
       "      <td>Borderlands</td>\n",
       "      <td>Positive</td>\n",
       "      <td>ImgetintoborderlandandIcanmurderyouall</td>\n",
       "      <td>0</td>\n",
       "      <td>1</td>\n",
       "      <td>0</td>\n",
       "      <td>0</td>\n",
       "      <td>0</td>\n",
       "    </tr>\n",
       "    <tr>\n",
       "      <th>5</th>\n",
       "      <td>Borderlands</td>\n",
       "      <td>Positive</td>\n",
       "      <td>soIspendafewhourmakesomethingforfunifyoudonotk...</td>\n",
       "      <td>0</td>\n",
       "      <td>1</td>\n",
       "      <td>0</td>\n",
       "      <td>0</td>\n",
       "      <td>0</td>\n",
       "    </tr>\n",
       "    <tr>\n",
       "      <th>6</th>\n",
       "      <td>Borderlands</td>\n",
       "      <td>Positive</td>\n",
       "      <td>soIspendacoupleofhourdosomethingforfunifyoudon...</td>\n",
       "      <td>0</td>\n",
       "      <td>1</td>\n",
       "      <td>0</td>\n",
       "      <td>0</td>\n",
       "      <td>0</td>\n",
       "    </tr>\n",
       "    <tr>\n",
       "      <th>7</th>\n",
       "      <td>Borderlands</td>\n",
       "      <td>Positive</td>\n",
       "      <td>soIspendafewhourdosomethingforfunifyoudonotkno...</td>\n",
       "      <td>0</td>\n",
       "      <td>1</td>\n",
       "      <td>0</td>\n",
       "      <td>0</td>\n",
       "      <td>0</td>\n",
       "    </tr>\n",
       "    <tr>\n",
       "      <th>8</th>\n",
       "      <td>Borderlands</td>\n",
       "      <td>Positive</td>\n",
       "      <td>soIspendafewhourmakesomethingforfunifyoudonotk...</td>\n",
       "      <td>0</td>\n",
       "      <td>1</td>\n",
       "      <td>0</td>\n",
       "      <td>0</td>\n",
       "      <td>0</td>\n",
       "    </tr>\n",
       "    <tr>\n",
       "      <th>9</th>\n",
       "      <td>Borderlands</td>\n",
       "      <td>Positive</td>\n",
       "      <td>2010soIspendafewhourmakesomethingforfunifyoudo...</td>\n",
       "      <td>0</td>\n",
       "      <td>1</td>\n",
       "      <td>0</td>\n",
       "      <td>0</td>\n",
       "      <td>0</td>\n",
       "    </tr>\n",
       "  </tbody>\n",
       "</table>\n",
       "</div>"
      ],
      "text/plain": [
       "     Game_Name Sentiment                                              final  \\\n",
       "0  Borderlands  Positive               IbecometotheborderandIwillkillyouall   \n",
       "1  Borderlands  Positive                ImgetonborderlandandIwillkillyouall   \n",
       "2  Borderlands  Positive             ImcomeonborderlandandIwillmurderyouall   \n",
       "3  Borderlands  Positive            Imgetonborderland2andIwillmurderyouIall   \n",
       "4  Borderlands  Positive             ImgetintoborderlandandIcanmurderyouall   \n",
       "5  Borderlands  Positive  soIspendafewhourmakesomethingforfunifyoudonotk...   \n",
       "6  Borderlands  Positive  soIspendacoupleofhourdosomethingforfunifyoudon...   \n",
       "7  Borderlands  Positive  soIspendafewhourdosomethingforfunifyoudonotkno...   \n",
       "8  Borderlands  Positive  soIspendafewhourmakesomethingforfunifyoudonotk...   \n",
       "9  Borderlands  Positive  2010soIspendafewhourmakesomethingforfunifyoudo...   \n",
       "\n",
       "   Amazon  Borderlands  CallOfDutyBlackopsColdWar  Overwatch  Xbox(Xseries)  \n",
       "0       0            1                          0          0              0  \n",
       "1       0            1                          0          0              0  \n",
       "2       0            1                          0          0              0  \n",
       "3       0            1                          0          0              0  \n",
       "4       0            1                          0          0              0  \n",
       "5       0            1                          0          0              0  \n",
       "6       0            1                          0          0              0  \n",
       "7       0            1                          0          0              0  \n",
       "8       0            1                          0          0              0  \n",
       "9       0            1                          0          0              0  "
      ]
     },
     "execution_count": 31,
     "metadata": {},
     "output_type": "execute_result"
    }
   ],
   "source": [
    "sentiment_df.head(10)"
   ]
  },
  {
   "cell_type": "code",
   "execution_count": 32,
   "id": "ff0d1cd2-cd4a-4cc6-95b8-b2a001b4debd",
   "metadata": {},
   "outputs": [
    {
     "data": {
      "text/plain": [
       "(8000, 3)"
      ]
     },
     "execution_count": 32,
     "metadata": {},
     "output_type": "execute_result"
    }
   ],
   "source": [
    "df2.shape"
   ]
  },
  {
   "cell_type": "code",
   "execution_count": 33,
   "id": "666b4516-e5c1-4a2c-aae7-858ece780155",
   "metadata": {},
   "outputs": [
    {
     "data": {
      "text/plain": [
       "Game_Name    0\n",
       "Sentiment    0\n",
       "final        0\n",
       "dtype: int64"
      ]
     },
     "execution_count": 33,
     "metadata": {},
     "output_type": "execute_result"
    }
   ],
   "source": [
    "df2.isna().sum()"
   ]
  },
  {
   "cell_type": "code",
   "execution_count": 34,
   "id": "8f7c1b31-9f03-4490-a9be-14c5bcbbf767",
   "metadata": {},
   "outputs": [],
   "source": [
    "#DIVIDING THE DATASET"
   ]
  },
  {
   "cell_type": "code",
   "execution_count": 35,
   "id": "59592428-5e9c-4f36-a9f4-910794532260",
   "metadata": {},
   "outputs": [],
   "source": [
    "X = sentiment_df.drop(columns = ['Sentiment'])\n",
    "y =  sentiment_df['Sentiment']"
   ]
  },
  {
   "cell_type": "code",
   "execution_count": 36,
   "id": "0d73da65-4a74-4ffc-94dc-f4c32640e525",
   "metadata": {},
   "outputs": [
    {
     "data": {
      "text/html": [
       "<div>\n",
       "<style scoped>\n",
       "    .dataframe tbody tr th:only-of-type {\n",
       "        vertical-align: middle;\n",
       "    }\n",
       "\n",
       "    .dataframe tbody tr th {\n",
       "        vertical-align: top;\n",
       "    }\n",
       "\n",
       "    .dataframe thead th {\n",
       "        text-align: right;\n",
       "    }\n",
       "</style>\n",
       "<table border=\"1\" class=\"dataframe\">\n",
       "  <thead>\n",
       "    <tr style=\"text-align: right;\">\n",
       "      <th></th>\n",
       "      <th>Game_Name</th>\n",
       "      <th>final</th>\n",
       "      <th>Amazon</th>\n",
       "      <th>Borderlands</th>\n",
       "      <th>CallOfDutyBlackopsColdWar</th>\n",
       "      <th>Overwatch</th>\n",
       "      <th>Xbox(Xseries)</th>\n",
       "    </tr>\n",
       "  </thead>\n",
       "  <tbody>\n",
       "    <tr>\n",
       "      <th>0</th>\n",
       "      <td>Borderlands</td>\n",
       "      <td>IbecometotheborderandIwillkillyouall</td>\n",
       "      <td>0</td>\n",
       "      <td>1</td>\n",
       "      <td>0</td>\n",
       "      <td>0</td>\n",
       "      <td>0</td>\n",
       "    </tr>\n",
       "    <tr>\n",
       "      <th>1</th>\n",
       "      <td>Borderlands</td>\n",
       "      <td>ImgetonborderlandandIwillkillyouall</td>\n",
       "      <td>0</td>\n",
       "      <td>1</td>\n",
       "      <td>0</td>\n",
       "      <td>0</td>\n",
       "      <td>0</td>\n",
       "    </tr>\n",
       "    <tr>\n",
       "      <th>2</th>\n",
       "      <td>Borderlands</td>\n",
       "      <td>ImcomeonborderlandandIwillmurderyouall</td>\n",
       "      <td>0</td>\n",
       "      <td>1</td>\n",
       "      <td>0</td>\n",
       "      <td>0</td>\n",
       "      <td>0</td>\n",
       "    </tr>\n",
       "    <tr>\n",
       "      <th>3</th>\n",
       "      <td>Borderlands</td>\n",
       "      <td>Imgetonborderland2andIwillmurderyouIall</td>\n",
       "      <td>0</td>\n",
       "      <td>1</td>\n",
       "      <td>0</td>\n",
       "      <td>0</td>\n",
       "      <td>0</td>\n",
       "    </tr>\n",
       "    <tr>\n",
       "      <th>4</th>\n",
       "      <td>Borderlands</td>\n",
       "      <td>ImgetintoborderlandandIcanmurderyouall</td>\n",
       "      <td>0</td>\n",
       "      <td>1</td>\n",
       "      <td>0</td>\n",
       "      <td>0</td>\n",
       "      <td>0</td>\n",
       "    </tr>\n",
       "  </tbody>\n",
       "</table>\n",
       "</div>"
      ],
      "text/plain": [
       "     Game_Name                                    final  Amazon  Borderlands  \\\n",
       "0  Borderlands     IbecometotheborderandIwillkillyouall       0            1   \n",
       "1  Borderlands      ImgetonborderlandandIwillkillyouall       0            1   \n",
       "2  Borderlands   ImcomeonborderlandandIwillmurderyouall       0            1   \n",
       "3  Borderlands  Imgetonborderland2andIwillmurderyouIall       0            1   \n",
       "4  Borderlands   ImgetintoborderlandandIcanmurderyouall       0            1   \n",
       "\n",
       "   CallOfDutyBlackopsColdWar  Overwatch  Xbox(Xseries)  \n",
       "0                          0          0              0  \n",
       "1                          0          0              0  \n",
       "2                          0          0              0  \n",
       "3                          0          0              0  \n",
       "4                          0          0              0  "
      ]
     },
     "execution_count": 36,
     "metadata": {},
     "output_type": "execute_result"
    }
   ],
   "source": [
    "X.head()"
   ]
  },
  {
   "cell_type": "code",
   "execution_count": 37,
   "id": "1cf3ff04-5ebb-4752-9d05-2a6d6eb3d9e0",
   "metadata": {},
   "outputs": [],
   "source": [
    "#TFIDVECTORIZER"
   ]
  },
  {
   "cell_type": "code",
   "execution_count": 38,
   "id": "e68207bd-86f7-47ea-83f3-9e63f650d6d2",
   "metadata": {},
   "outputs": [],
   "source": [
    "tfidf = TfidfVectorizer()"
   ]
  },
  {
   "cell_type": "code",
   "execution_count": 39,
   "id": "2c2afa45-f5f3-4376-be32-a61edb14d700",
   "metadata": {},
   "outputs": [
    {
     "data": {
      "text/html": [
       "<style>#sk-container-id-1 {color: black;}#sk-container-id-1 pre{padding: 0;}#sk-container-id-1 div.sk-toggleable {background-color: white;}#sk-container-id-1 label.sk-toggleable__label {cursor: pointer;display: block;width: 100%;margin-bottom: 0;padding: 0.3em;box-sizing: border-box;text-align: center;}#sk-container-id-1 label.sk-toggleable__label-arrow:before {content: \"▸\";float: left;margin-right: 0.25em;color: #696969;}#sk-container-id-1 label.sk-toggleable__label-arrow:hover:before {color: black;}#sk-container-id-1 div.sk-estimator:hover label.sk-toggleable__label-arrow:before {color: black;}#sk-container-id-1 div.sk-toggleable__content {max-height: 0;max-width: 0;overflow: hidden;text-align: left;background-color: #f0f8ff;}#sk-container-id-1 div.sk-toggleable__content pre {margin: 0.2em;color: black;border-radius: 0.25em;background-color: #f0f8ff;}#sk-container-id-1 input.sk-toggleable__control:checked~div.sk-toggleable__content {max-height: 200px;max-width: 100%;overflow: auto;}#sk-container-id-1 input.sk-toggleable__control:checked~label.sk-toggleable__label-arrow:before {content: \"▾\";}#sk-container-id-1 div.sk-estimator input.sk-toggleable__control:checked~label.sk-toggleable__label {background-color: #d4ebff;}#sk-container-id-1 div.sk-label input.sk-toggleable__control:checked~label.sk-toggleable__label {background-color: #d4ebff;}#sk-container-id-1 input.sk-hidden--visually {border: 0;clip: rect(1px 1px 1px 1px);clip: rect(1px, 1px, 1px, 1px);height: 1px;margin: -1px;overflow: hidden;padding: 0;position: absolute;width: 1px;}#sk-container-id-1 div.sk-estimator {font-family: monospace;background-color: #f0f8ff;border: 1px dotted black;border-radius: 0.25em;box-sizing: border-box;margin-bottom: 0.5em;}#sk-container-id-1 div.sk-estimator:hover {background-color: #d4ebff;}#sk-container-id-1 div.sk-parallel-item::after {content: \"\";width: 100%;border-bottom: 1px solid gray;flex-grow: 1;}#sk-container-id-1 div.sk-label:hover label.sk-toggleable__label {background-color: #d4ebff;}#sk-container-id-1 div.sk-serial::before {content: \"\";position: absolute;border-left: 1px solid gray;box-sizing: border-box;top: 0;bottom: 0;left: 50%;z-index: 0;}#sk-container-id-1 div.sk-serial {display: flex;flex-direction: column;align-items: center;background-color: white;padding-right: 0.2em;padding-left: 0.2em;position: relative;}#sk-container-id-1 div.sk-item {position: relative;z-index: 1;}#sk-container-id-1 div.sk-parallel {display: flex;align-items: stretch;justify-content: center;background-color: white;position: relative;}#sk-container-id-1 div.sk-item::before, #sk-container-id-1 div.sk-parallel-item::before {content: \"\";position: absolute;border-left: 1px solid gray;box-sizing: border-box;top: 0;bottom: 0;left: 50%;z-index: -1;}#sk-container-id-1 div.sk-parallel-item {display: flex;flex-direction: column;z-index: 1;position: relative;background-color: white;}#sk-container-id-1 div.sk-parallel-item:first-child::after {align-self: flex-end;width: 50%;}#sk-container-id-1 div.sk-parallel-item:last-child::after {align-self: flex-start;width: 50%;}#sk-container-id-1 div.sk-parallel-item:only-child::after {width: 0;}#sk-container-id-1 div.sk-dashed-wrapped {border: 1px dashed gray;margin: 0 0.4em 0.5em 0.4em;box-sizing: border-box;padding-bottom: 0.4em;background-color: white;}#sk-container-id-1 div.sk-label label {font-family: monospace;font-weight: bold;display: inline-block;line-height: 1.2em;}#sk-container-id-1 div.sk-label-container {text-align: center;}#sk-container-id-1 div.sk-container {/* jupyter's `normalize.less` sets `[hidden] { display: none; }` but bootstrap.min.css set `[hidden] { display: none !important; }` so we also need the `!important` here to be able to override the default hidden behavior on the sphinx rendered scikit-learn.org. See: https://github.com/scikit-learn/scikit-learn/issues/21755 */display: inline-block !important;position: relative;}#sk-container-id-1 div.sk-text-repr-fallback {display: none;}</style><div id=\"sk-container-id-1\" class=\"sk-top-container\"><div class=\"sk-text-repr-fallback\"><pre>TfidfVectorizer()</pre><b>In a Jupyter environment, please rerun this cell to show the HTML representation or trust the notebook. <br />On GitHub, the HTML representation is unable to render, please try loading this page with nbviewer.org.</b></div><div class=\"sk-container\" hidden><div class=\"sk-item\"><div class=\"sk-estimator sk-toggleable\"><input class=\"sk-toggleable__control sk-hidden--visually\" id=\"sk-estimator-id-1\" type=\"checkbox\" checked><label for=\"sk-estimator-id-1\" class=\"sk-toggleable__label sk-toggleable__label-arrow\">TfidfVectorizer</label><div class=\"sk-toggleable__content\"><pre>TfidfVectorizer()</pre></div></div></div></div></div>"
      ],
      "text/plain": [
       "TfidfVectorizer()"
      ]
     },
     "execution_count": 39,
     "metadata": {},
     "output_type": "execute_result"
    }
   ],
   "source": [
    "tfidf.fit(X['final'])"
   ]
  },
  {
   "cell_type": "code",
   "execution_count": 40,
   "id": "2392ab27-f4f2-4250-a3b6-457531f29fb4",
   "metadata": {},
   "outputs": [],
   "source": [
    "tfidf_matrix = tfidf.transform(X['final']).toarray()"
   ]
  },
  {
   "cell_type": "code",
   "execution_count": 41,
   "id": "05e500f0-b678-4b50-8958-862a60953fa4",
   "metadata": {},
   "outputs": [
    {
     "data": {
      "text/plain": [
       "array([[0., 0., 0., ..., 0., 0., 0.],\n",
       "       [0., 0., 0., ..., 0., 0., 0.],\n",
       "       [0., 0., 0., ..., 0., 0., 0.],\n",
       "       ...,\n",
       "       [0., 0., 0., ..., 0., 0., 0.],\n",
       "       [0., 0., 0., ..., 0., 0., 0.],\n",
       "       [0., 0., 0., ..., 0., 0., 0.]])"
      ]
     },
     "execution_count": 41,
     "metadata": {},
     "output_type": "execute_result"
    }
   ],
   "source": [
    "tfidf_matrix"
   ]
  },
  {
   "cell_type": "code",
   "execution_count": 42,
   "id": "b7c5cf67-c520-4a71-9cdb-6a34d8cc9be8",
   "metadata": {},
   "outputs": [],
   "source": [
    "vectorizer_df = pd.DataFrame(tfidf_matrix, columns = tfidf.get_feature_names_out())"
   ]
  },
  {
   "cell_type": "code",
   "execution_count": 43,
   "id": "0af5e424-fa41-430f-aed1-3232b0fcbd74",
   "metadata": {},
   "outputs": [
    {
     "data": {
      "text/html": [
       "<div>\n",
       "<style scoped>\n",
       "    .dataframe tbody tr th:only-of-type {\n",
       "        vertical-align: middle;\n",
       "    }\n",
       "\n",
       "    .dataframe tbody tr th {\n",
       "        vertical-align: top;\n",
       "    }\n",
       "\n",
       "    .dataframe thead th {\n",
       "        text-align: right;\n",
       "    }\n",
       "</style>\n",
       "<table border=\"1\" class=\"dataframe\">\n",
       "  <thead>\n",
       "    <tr style=\"text-align: right;\">\n",
       "      <th></th>\n",
       "      <th>00</th>\n",
       "      <th>000</th>\n",
       "      <th>0003</th>\n",
       "      <th>000amazonpaycashbackgetournewoneplustvreadmoreatourswideweb</th>\n",
       "      <th>000amazonpaycashbackwithanewoneplustvreadmoreatourswideweb</th>\n",
       "      <th>000amazonpaycashbackwithbuyanewyorkoneplusfortvreadmorereviewatourswideweb</th>\n",
       "      <th>000frompcqc</th>\n",
       "      <th>000goldenkamuyunithttps</th>\n",
       "      <th>000grantfromfqc</th>\n",
       "      <th>000grantfrompcqc</th>\n",
       "      <th>...</th>\n",
       "      <th>zssometrulyseriousproblemfitintobothstoryandgameplaydrop</th>\n",
       "      <th>zxxxvi</th>\n",
       "      <th>zxxxvids</th>\n",
       "      <th>втретьарце</th>\n",
       "      <th>ееееееееееееееееееееееееееееееееееееееееееееееееееееееееееееееееееееееееееееееееееееееееееееееееееееееееееееееееееееееееееееееееееееееееееееееееееееееееееееееееееееееееееееееееееееееееееееееееееееее</th>\n",
       "      <th>есть</th>\n",
       "      <th>с4июля</th>\n",
       "      <th>اللعبه2</th>\n",
       "      <th>خلاصحبيتbinاللعبه2</th>\n",
       "      <th>خلاصحبيتاللعبه</th>\n",
       "    </tr>\n",
       "  </thead>\n",
       "  <tbody>\n",
       "    <tr>\n",
       "      <th>0</th>\n",
       "      <td>0.0</td>\n",
       "      <td>0.0</td>\n",
       "      <td>0.0</td>\n",
       "      <td>0.0</td>\n",
       "      <td>0.0</td>\n",
       "      <td>0.0</td>\n",
       "      <td>0.0</td>\n",
       "      <td>0.0</td>\n",
       "      <td>0.0</td>\n",
       "      <td>0.0</td>\n",
       "      <td>...</td>\n",
       "      <td>0.0</td>\n",
       "      <td>0.0</td>\n",
       "      <td>0.0</td>\n",
       "      <td>0.0</td>\n",
       "      <td>0.0</td>\n",
       "      <td>0.0</td>\n",
       "      <td>0.0</td>\n",
       "      <td>0.0</td>\n",
       "      <td>0.0</td>\n",
       "      <td>0.0</td>\n",
       "    </tr>\n",
       "    <tr>\n",
       "      <th>1</th>\n",
       "      <td>0.0</td>\n",
       "      <td>0.0</td>\n",
       "      <td>0.0</td>\n",
       "      <td>0.0</td>\n",
       "      <td>0.0</td>\n",
       "      <td>0.0</td>\n",
       "      <td>0.0</td>\n",
       "      <td>0.0</td>\n",
       "      <td>0.0</td>\n",
       "      <td>0.0</td>\n",
       "      <td>...</td>\n",
       "      <td>0.0</td>\n",
       "      <td>0.0</td>\n",
       "      <td>0.0</td>\n",
       "      <td>0.0</td>\n",
       "      <td>0.0</td>\n",
       "      <td>0.0</td>\n",
       "      <td>0.0</td>\n",
       "      <td>0.0</td>\n",
       "      <td>0.0</td>\n",
       "      <td>0.0</td>\n",
       "    </tr>\n",
       "    <tr>\n",
       "      <th>2</th>\n",
       "      <td>0.0</td>\n",
       "      <td>0.0</td>\n",
       "      <td>0.0</td>\n",
       "      <td>0.0</td>\n",
       "      <td>0.0</td>\n",
       "      <td>0.0</td>\n",
       "      <td>0.0</td>\n",
       "      <td>0.0</td>\n",
       "      <td>0.0</td>\n",
       "      <td>0.0</td>\n",
       "      <td>...</td>\n",
       "      <td>0.0</td>\n",
       "      <td>0.0</td>\n",
       "      <td>0.0</td>\n",
       "      <td>0.0</td>\n",
       "      <td>0.0</td>\n",
       "      <td>0.0</td>\n",
       "      <td>0.0</td>\n",
       "      <td>0.0</td>\n",
       "      <td>0.0</td>\n",
       "      <td>0.0</td>\n",
       "    </tr>\n",
       "    <tr>\n",
       "      <th>3</th>\n",
       "      <td>0.0</td>\n",
       "      <td>0.0</td>\n",
       "      <td>0.0</td>\n",
       "      <td>0.0</td>\n",
       "      <td>0.0</td>\n",
       "      <td>0.0</td>\n",
       "      <td>0.0</td>\n",
       "      <td>0.0</td>\n",
       "      <td>0.0</td>\n",
       "      <td>0.0</td>\n",
       "      <td>...</td>\n",
       "      <td>0.0</td>\n",
       "      <td>0.0</td>\n",
       "      <td>0.0</td>\n",
       "      <td>0.0</td>\n",
       "      <td>0.0</td>\n",
       "      <td>0.0</td>\n",
       "      <td>0.0</td>\n",
       "      <td>0.0</td>\n",
       "      <td>0.0</td>\n",
       "      <td>0.0</td>\n",
       "    </tr>\n",
       "    <tr>\n",
       "      <th>4</th>\n",
       "      <td>0.0</td>\n",
       "      <td>0.0</td>\n",
       "      <td>0.0</td>\n",
       "      <td>0.0</td>\n",
       "      <td>0.0</td>\n",
       "      <td>0.0</td>\n",
       "      <td>0.0</td>\n",
       "      <td>0.0</td>\n",
       "      <td>0.0</td>\n",
       "      <td>0.0</td>\n",
       "      <td>...</td>\n",
       "      <td>0.0</td>\n",
       "      <td>0.0</td>\n",
       "      <td>0.0</td>\n",
       "      <td>0.0</td>\n",
       "      <td>0.0</td>\n",
       "      <td>0.0</td>\n",
       "      <td>0.0</td>\n",
       "      <td>0.0</td>\n",
       "      <td>0.0</td>\n",
       "      <td>0.0</td>\n",
       "    </tr>\n",
       "  </tbody>\n",
       "</table>\n",
       "<p>5 rows × 13665 columns</p>\n",
       "</div>"
      ],
      "text/plain": [
       "    00  000  0003  \\\n",
       "0  0.0  0.0   0.0   \n",
       "1  0.0  0.0   0.0   \n",
       "2  0.0  0.0   0.0   \n",
       "3  0.0  0.0   0.0   \n",
       "4  0.0  0.0   0.0   \n",
       "\n",
       "   000amazonpaycashbackgetournewoneplustvreadmoreatourswideweb  \\\n",
       "0                                                0.0             \n",
       "1                                                0.0             \n",
       "2                                                0.0             \n",
       "3                                                0.0             \n",
       "4                                                0.0             \n",
       "\n",
       "   000amazonpaycashbackwithanewoneplustvreadmoreatourswideweb  \\\n",
       "0                                                0.0            \n",
       "1                                                0.0            \n",
       "2                                                0.0            \n",
       "3                                                0.0            \n",
       "4                                                0.0            \n",
       "\n",
       "   000amazonpaycashbackwithbuyanewyorkoneplusfortvreadmorereviewatourswideweb  \\\n",
       "0                                                0.0                            \n",
       "1                                                0.0                            \n",
       "2                                                0.0                            \n",
       "3                                                0.0                            \n",
       "4                                                0.0                            \n",
       "\n",
       "   000frompcqc  000goldenkamuyunithttps  000grantfromfqc  000grantfrompcqc  \\\n",
       "0          0.0                      0.0              0.0               0.0   \n",
       "1          0.0                      0.0              0.0               0.0   \n",
       "2          0.0                      0.0              0.0               0.0   \n",
       "3          0.0                      0.0              0.0               0.0   \n",
       "4          0.0                      0.0              0.0               0.0   \n",
       "\n",
       "   ...  zssometrulyseriousproblemfitintobothstoryandgameplaydrop  zxxxvi  \\\n",
       "0  ...                                                0.0            0.0   \n",
       "1  ...                                                0.0            0.0   \n",
       "2  ...                                                0.0            0.0   \n",
       "3  ...                                                0.0            0.0   \n",
       "4  ...                                                0.0            0.0   \n",
       "\n",
       "   zxxxvids  втретьарце  \\\n",
       "0       0.0         0.0   \n",
       "1       0.0         0.0   \n",
       "2       0.0         0.0   \n",
       "3       0.0         0.0   \n",
       "4       0.0         0.0   \n",
       "\n",
       "   ееееееееееееееееееееееееееееееееееееееееееееееееееееееееееееееееееееееееееееееееееееееееееееееееееееееееееееееееееееееееееееееееееееееееееееееееееееееееееееееееееееееееееееееееееееееееееееееееееееее  \\\n",
       "0                                                0.0                                                                                                                                                        \n",
       "1                                                0.0                                                                                                                                                        \n",
       "2                                                0.0                                                                                                                                                        \n",
       "3                                                0.0                                                                                                                                                        \n",
       "4                                                0.0                                                                                                                                                        \n",
       "\n",
       "   есть  с4июля  اللعبه2  خلاصحبيتbinاللعبه2  خلاصحبيتاللعبه  \n",
       "0   0.0     0.0      0.0                 0.0             0.0  \n",
       "1   0.0     0.0      0.0                 0.0             0.0  \n",
       "2   0.0     0.0      0.0                 0.0             0.0  \n",
       "3   0.0     0.0      0.0                 0.0             0.0  \n",
       "4   0.0     0.0      0.0                 0.0             0.0  \n",
       "\n",
       "[5 rows x 13665 columns]"
      ]
     },
     "execution_count": 43,
     "metadata": {},
     "output_type": "execute_result"
    }
   ],
   "source": [
    "vectorizer_df.head()"
   ]
  },
  {
   "cell_type": "code",
   "execution_count": 44,
   "id": "abcc7b08-45ca-4b7f-b356-8673b260cd8b",
   "metadata": {},
   "outputs": [],
   "source": [
    "X.drop(columns = ['final'], inplace = True)"
   ]
  },
  {
   "cell_type": "code",
   "execution_count": 45,
   "id": "17e67ea9-d21d-44a8-ad7c-ea14e0017b5b",
   "metadata": {},
   "outputs": [
    {
     "data": {
      "text/plain": [
       "((8000, 6), (8000, 13665))"
      ]
     },
     "execution_count": 45,
     "metadata": {},
     "output_type": "execute_result"
    }
   ],
   "source": [
    "X.shape, vectorizer_df.shape"
   ]
  },
  {
   "cell_type": "code",
   "execution_count": 46,
   "id": "ce13cd7c-aee9-4931-b3d4-b8a5fc59ae03",
   "metadata": {},
   "outputs": [],
   "source": [
    "X = pd.concat([X, vectorizer_df], axis = 1)"
   ]
  },
  {
   "cell_type": "code",
   "execution_count": 47,
   "id": "e019dfdf-86f7-4ae0-a74e-c94a8060cf9b",
   "metadata": {},
   "outputs": [
    {
     "data": {
      "text/html": [
       "<div>\n",
       "<style scoped>\n",
       "    .dataframe tbody tr th:only-of-type {\n",
       "        vertical-align: middle;\n",
       "    }\n",
       "\n",
       "    .dataframe tbody tr th {\n",
       "        vertical-align: top;\n",
       "    }\n",
       "\n",
       "    .dataframe thead th {\n",
       "        text-align: right;\n",
       "    }\n",
       "</style>\n",
       "<table border=\"1\" class=\"dataframe\">\n",
       "  <thead>\n",
       "    <tr style=\"text-align: right;\">\n",
       "      <th></th>\n",
       "      <th>Game_Name</th>\n",
       "      <th>Amazon</th>\n",
       "      <th>Borderlands</th>\n",
       "      <th>CallOfDutyBlackopsColdWar</th>\n",
       "      <th>Overwatch</th>\n",
       "      <th>Xbox(Xseries)</th>\n",
       "      <th>00</th>\n",
       "      <th>000</th>\n",
       "      <th>0003</th>\n",
       "      <th>000amazonpaycashbackgetournewoneplustvreadmoreatourswideweb</th>\n",
       "      <th>...</th>\n",
       "      <th>zssometrulyseriousproblemfitintobothstoryandgameplaydrop</th>\n",
       "      <th>zxxxvi</th>\n",
       "      <th>zxxxvids</th>\n",
       "      <th>втретьарце</th>\n",
       "      <th>ееееееееееееееееееееееееееееееееееееееееееееееееееееееееееееееееееееееееееееееееееееееееееееееееееееееееееееееееееееееееееееееееееееееееееееееееееееееееееееееееееееееееееееееееееееееееееееееееееееее</th>\n",
       "      <th>есть</th>\n",
       "      <th>с4июля</th>\n",
       "      <th>اللعبه2</th>\n",
       "      <th>خلاصحبيتbinاللعبه2</th>\n",
       "      <th>خلاصحبيتاللعبه</th>\n",
       "    </tr>\n",
       "  </thead>\n",
       "  <tbody>\n",
       "    <tr>\n",
       "      <th>0</th>\n",
       "      <td>Borderlands</td>\n",
       "      <td>0.0</td>\n",
       "      <td>1.0</td>\n",
       "      <td>0.0</td>\n",
       "      <td>0.0</td>\n",
       "      <td>0.0</td>\n",
       "      <td>0.0</td>\n",
       "      <td>0.0</td>\n",
       "      <td>0.0</td>\n",
       "      <td>0.0</td>\n",
       "      <td>...</td>\n",
       "      <td>0.0</td>\n",
       "      <td>0.0</td>\n",
       "      <td>0.0</td>\n",
       "      <td>0.0</td>\n",
       "      <td>0.0</td>\n",
       "      <td>0.0</td>\n",
       "      <td>0.0</td>\n",
       "      <td>0.0</td>\n",
       "      <td>0.0</td>\n",
       "      <td>0.0</td>\n",
       "    </tr>\n",
       "    <tr>\n",
       "      <th>1</th>\n",
       "      <td>Borderlands</td>\n",
       "      <td>0.0</td>\n",
       "      <td>1.0</td>\n",
       "      <td>0.0</td>\n",
       "      <td>0.0</td>\n",
       "      <td>0.0</td>\n",
       "      <td>0.0</td>\n",
       "      <td>0.0</td>\n",
       "      <td>0.0</td>\n",
       "      <td>0.0</td>\n",
       "      <td>...</td>\n",
       "      <td>0.0</td>\n",
       "      <td>0.0</td>\n",
       "      <td>0.0</td>\n",
       "      <td>0.0</td>\n",
       "      <td>0.0</td>\n",
       "      <td>0.0</td>\n",
       "      <td>0.0</td>\n",
       "      <td>0.0</td>\n",
       "      <td>0.0</td>\n",
       "      <td>0.0</td>\n",
       "    </tr>\n",
       "    <tr>\n",
       "      <th>2</th>\n",
       "      <td>Borderlands</td>\n",
       "      <td>0.0</td>\n",
       "      <td>1.0</td>\n",
       "      <td>0.0</td>\n",
       "      <td>0.0</td>\n",
       "      <td>0.0</td>\n",
       "      <td>0.0</td>\n",
       "      <td>0.0</td>\n",
       "      <td>0.0</td>\n",
       "      <td>0.0</td>\n",
       "      <td>...</td>\n",
       "      <td>0.0</td>\n",
       "      <td>0.0</td>\n",
       "      <td>0.0</td>\n",
       "      <td>0.0</td>\n",
       "      <td>0.0</td>\n",
       "      <td>0.0</td>\n",
       "      <td>0.0</td>\n",
       "      <td>0.0</td>\n",
       "      <td>0.0</td>\n",
       "      <td>0.0</td>\n",
       "    </tr>\n",
       "    <tr>\n",
       "      <th>3</th>\n",
       "      <td>Borderlands</td>\n",
       "      <td>0.0</td>\n",
       "      <td>1.0</td>\n",
       "      <td>0.0</td>\n",
       "      <td>0.0</td>\n",
       "      <td>0.0</td>\n",
       "      <td>0.0</td>\n",
       "      <td>0.0</td>\n",
       "      <td>0.0</td>\n",
       "      <td>0.0</td>\n",
       "      <td>...</td>\n",
       "      <td>0.0</td>\n",
       "      <td>0.0</td>\n",
       "      <td>0.0</td>\n",
       "      <td>0.0</td>\n",
       "      <td>0.0</td>\n",
       "      <td>0.0</td>\n",
       "      <td>0.0</td>\n",
       "      <td>0.0</td>\n",
       "      <td>0.0</td>\n",
       "      <td>0.0</td>\n",
       "    </tr>\n",
       "    <tr>\n",
       "      <th>4</th>\n",
       "      <td>Borderlands</td>\n",
       "      <td>0.0</td>\n",
       "      <td>1.0</td>\n",
       "      <td>0.0</td>\n",
       "      <td>0.0</td>\n",
       "      <td>0.0</td>\n",
       "      <td>0.0</td>\n",
       "      <td>0.0</td>\n",
       "      <td>0.0</td>\n",
       "      <td>0.0</td>\n",
       "      <td>...</td>\n",
       "      <td>0.0</td>\n",
       "      <td>0.0</td>\n",
       "      <td>0.0</td>\n",
       "      <td>0.0</td>\n",
       "      <td>0.0</td>\n",
       "      <td>0.0</td>\n",
       "      <td>0.0</td>\n",
       "      <td>0.0</td>\n",
       "      <td>0.0</td>\n",
       "      <td>0.0</td>\n",
       "    </tr>\n",
       "  </tbody>\n",
       "</table>\n",
       "<p>5 rows × 13671 columns</p>\n",
       "</div>"
      ],
      "text/plain": [
       "     Game_Name  Amazon  Borderlands  CallOfDutyBlackopsColdWar  Overwatch  \\\n",
       "0  Borderlands     0.0          1.0                        0.0        0.0   \n",
       "1  Borderlands     0.0          1.0                        0.0        0.0   \n",
       "2  Borderlands     0.0          1.0                        0.0        0.0   \n",
       "3  Borderlands     0.0          1.0                        0.0        0.0   \n",
       "4  Borderlands     0.0          1.0                        0.0        0.0   \n",
       "\n",
       "   Xbox(Xseries)   00  000  0003  \\\n",
       "0            0.0  0.0  0.0   0.0   \n",
       "1            0.0  0.0  0.0   0.0   \n",
       "2            0.0  0.0  0.0   0.0   \n",
       "3            0.0  0.0  0.0   0.0   \n",
       "4            0.0  0.0  0.0   0.0   \n",
       "\n",
       "   000amazonpaycashbackgetournewoneplustvreadmoreatourswideweb  ...  \\\n",
       "0                                                0.0            ...   \n",
       "1                                                0.0            ...   \n",
       "2                                                0.0            ...   \n",
       "3                                                0.0            ...   \n",
       "4                                                0.0            ...   \n",
       "\n",
       "   zssometrulyseriousproblemfitintobothstoryandgameplaydrop  zxxxvi  zxxxvids  \\\n",
       "0                                                0.0            0.0       0.0   \n",
       "1                                                0.0            0.0       0.0   \n",
       "2                                                0.0            0.0       0.0   \n",
       "3                                                0.0            0.0       0.0   \n",
       "4                                                0.0            0.0       0.0   \n",
       "\n",
       "   втретьарце  \\\n",
       "0         0.0   \n",
       "1         0.0   \n",
       "2         0.0   \n",
       "3         0.0   \n",
       "4         0.0   \n",
       "\n",
       "   ееееееееееееееееееееееееееееееееееееееееееееееееееееееееееееееееееееееееееееееееееееееееееееееееееееееееееееееееееееееееееееееееееееееееееееееееееееееееееееееееееееееееееееееееееееееееееееееееееееее  \\\n",
       "0                                                0.0                                                                                                                                                        \n",
       "1                                                0.0                                                                                                                                                        \n",
       "2                                                0.0                                                                                                                                                        \n",
       "3                                                0.0                                                                                                                                                        \n",
       "4                                                0.0                                                                                                                                                        \n",
       "\n",
       "   есть  с4июля  اللعبه2  خلاصحبيتbinاللعبه2  خلاصحبيتاللعبه  \n",
       "0   0.0     0.0      0.0                 0.0             0.0  \n",
       "1   0.0     0.0      0.0                 0.0             0.0  \n",
       "2   0.0     0.0      0.0                 0.0             0.0  \n",
       "3   0.0     0.0      0.0                 0.0             0.0  \n",
       "4   0.0     0.0      0.0                 0.0             0.0  \n",
       "\n",
       "[5 rows x 13671 columns]"
      ]
     },
     "execution_count": 47,
     "metadata": {},
     "output_type": "execute_result"
    }
   ],
   "source": [
    "X.head()"
   ]
  },
  {
   "cell_type": "code",
   "execution_count": 48,
   "id": "f36a0782-8f8d-4079-a527-e337945147d9",
   "metadata": {},
   "outputs": [
    {
     "data": {
      "text/plain": [
       "Game_Name                    952\n",
       "Amazon                       952\n",
       "Borderlands                  952\n",
       "CallOfDutyBlackopsColdWar    952\n",
       "Overwatch                    952\n",
       "                            ... \n",
       "есть                         952\n",
       "с4июля                       952\n",
       "اللعبه2                      952\n",
       "خلاصحبيتbinاللعبه2           952\n",
       "خلاصحبيتاللعبه               952\n",
       "Length: 13671, dtype: int64"
      ]
     },
     "execution_count": 48,
     "metadata": {},
     "output_type": "execute_result"
    }
   ],
   "source": [
    "X.isna().sum()"
   ]
  },
  {
   "cell_type": "code",
   "execution_count": 49,
   "id": "a1cf9f13-204e-4e43-a319-9f2b0960b53a",
   "metadata": {},
   "outputs": [
    {
     "data": {
      "text/plain": [
       "Game_Name                    0\n",
       "Amazon                       0\n",
       "Borderlands                  0\n",
       "CallOfDutyBlackopsColdWar    0\n",
       "Overwatch                    0\n",
       "                            ..\n",
       "есть                         0\n",
       "с4июля                       0\n",
       "اللعبه2                      0\n",
       "خلاصحبيتbinاللعبه2           0\n",
       "خلاصحبيتاللعبه               0\n",
       "Length: 13671, dtype: int64"
      ]
     },
     "execution_count": 49,
     "metadata": {},
     "output_type": "execute_result"
    }
   ],
   "source": [
    "X = X.fillna(0)\n",
    "X.isna().sum()"
   ]
  },
  {
   "cell_type": "code",
   "execution_count": 50,
   "id": "dc5c74d9-6b24-4722-8f2a-7f373463353b",
   "metadata": {},
   "outputs": [],
   "source": [
    "#TRAIN TEST SPLIT"
   ]
  },
  {
   "cell_type": "code",
   "execution_count": 51,
   "id": "4cf238ab-dc8e-47dc-b710-736eb4ae2f33",
   "metadata": {},
   "outputs": [
    {
     "data": {
      "text/plain": [
       "((8952, 13671), (8000,))"
      ]
     },
     "execution_count": 51,
     "metadata": {},
     "output_type": "execute_result"
    }
   ],
   "source": [
    "X.shape, y.shape"
   ]
  },
  {
   "cell_type": "code",
   "execution_count": 52,
   "id": "1e6fa31c-6c77-4399-accb-03f07357b17f",
   "metadata": {},
   "outputs": [],
   "source": [
    "X =X.iloc[:8000]"
   ]
  },
  {
   "cell_type": "code",
   "execution_count": 53,
   "id": "b8b38f58-00f0-4e7e-8a3c-90ccf26b7702",
   "metadata": {},
   "outputs": [],
   "source": [
    "X_train, X_test, y_train, y_test = train_test_split(X, y, test_size =  0.2, random_state =42)"
   ]
  },
  {
   "cell_type": "code",
   "execution_count": 54,
   "id": "c7e9bfdd-d754-41c2-870b-23158fbed159",
   "metadata": {},
   "outputs": [
    {
     "data": {
      "text/plain": [
       "((6400, 13671), (1600, 13671))"
      ]
     },
     "execution_count": 54,
     "metadata": {},
     "output_type": "execute_result"
    }
   ],
   "source": [
    "X_train.shape, X_test.shape"
   ]
  },
  {
   "cell_type": "code",
   "execution_count": 55,
   "id": "82f77174-8e3e-417d-87d7-02af4832b632",
   "metadata": {},
   "outputs": [],
   "source": [
    "#BUILDING MODEL"
   ]
  },
  {
   "cell_type": "code",
   "execution_count": 56,
   "id": "42a9d95e-8731-4ff7-84da-0860ddff6c4b",
   "metadata": {},
   "outputs": [],
   "source": [
    "from sklearn.ensemble import RandomForestClassifier\n",
    "from sklearn.metrics import accuracy_score, classification_report, confusion_matrix\n"
   ]
  },
  {
   "cell_type": "code",
   "execution_count": 57,
   "id": "cdebc72e-8d3e-4729-bc59-a32cf2752206",
   "metadata": {},
   "outputs": [
    {
     "name": "stdout",
     "output_type": "stream",
     "text": [
      "Index(['Game_Name', 'Amazon', 'Borderlands', 'CallOfDutyBlackopsColdWar',\n",
      "       'Overwatch', 'Xbox(Xseries)', '00', '000', '0003',\n",
      "       '000amazonpaycashbackgetournewoneplustvreadmoreatourswideweb',\n",
      "       ...\n",
      "       'zssometrulyseriousproblemfitintobothstoryandgameplaydrop', 'zxxxvi',\n",
      "       'zxxxvids', 'втретьарце',\n",
      "       'ееееееееееееееееееееееееееееееееееееееееееееееееееееееееееееееееееееееееееееееееееееееееееееееееееееееееееееееееееееееееееееееееееееееееееееееееееееееееееееееееееееееееееееееееееееееееееееееееееееее',\n",
      "       'есть', 'с4июля', 'اللعبه2', 'خلاصحبيتbinاللعبه2', 'خلاصحبيتاللعبه'],\n",
      "      dtype='object', length=13671)\n"
     ]
    }
   ],
   "source": [
    "print(X_train.columns)"
   ]
  },
  {
   "cell_type": "code",
   "execution_count": 62,
   "id": "05ade38f-b198-488b-87e0-8ad10bd1b712",
   "metadata": {},
   "outputs": [
    {
     "name": "stdout",
     "output_type": "stream",
     "text": [
      "[8.355]\n"
     ]
    }
   ],
   "source": [
    "import pandas as pd\n",
    "from sklearn.ensemble import RandomForestRegressor\n",
    "from sklearn.model_selection import train_test_split\n",
    "from sklearn.preprocessing import OneHotEncoder\n",
    "from sklearn.compose import ColumnTransformer\n",
    "from sklearn.pipeline import Pipeline\n",
    "\n",
    "# Example DataFrame\n",
    "data = pd.DataFrame({\n",
    "    'Game': ['CallOfDutyBlackopsColdWar', 'FIFA21', 'Cyberpunk2077'],\n",
    "    'Score': [8.5, 9.0, 7.5],\n",
    "    'ReleaseYear': [2020, 2020, 2020],\n",
    "    'Publisher': ['Activision', 'EA Sports', 'CD Projekt']\n",
    "})\n",
    "\n",
    "# Features and target\n",
    "X = data[['Game', 'ReleaseYear', 'Publisher']]\n",
    "y = data['Score']\n",
    "\n",
    "# Split data\n",
    "X_train, X_test, y_train, y_test = train_test_split(X, y, test_size=0.2, random_state=42)\n",
    "\n",
    "# Define the column transformer\n",
    "column_transformer = ColumnTransformer(\n",
    "    transformers=[\n",
    "        ('encoder', OneHotEncoder(handle_unknown='ignore'), ['Game', 'Publisher'])\n",
    "    ],\n",
    "    remainder='passthrough'\n",
    ")\n",
    "\n",
    "# Create a pipeline\n",
    "pipeline = Pipeline(steps=[\n",
    "    ('preprocessor', column_transformer),\n",
    "    ('model', RandomForestRegressor(n_jobs=1, random_state=42, n_estimators=200))\n",
    "])\n",
    "\n",
    "# Fit the model\n",
    "pipeline.fit(X_train, y_train)\n",
    "\n",
    "# Make predictions\n",
    "predictions = pipeline.predict(X_test)\n",
    "\n",
    "# Print predictions\n",
    "print(predictions)\n"
   ]
  },
  {
   "cell_type": "code",
   "execution_count": 66,
   "id": "045ba75c-089e-4faa-9947-55a618eed0bd",
   "metadata": {},
   "outputs": [],
   "source": [
    "predictions = pipeline.predict(X_test)"
   ]
  },
  {
   "cell_type": "code",
   "execution_count": 67,
   "id": "54e1badd-2401-4fa4-bbdc-ad7bed5f76ea",
   "metadata": {},
   "outputs": [
    {
     "data": {
      "text/plain": [
       "0    8.5\n",
       "Name: Score, dtype: float64"
      ]
     },
     "execution_count": 67,
     "metadata": {},
     "output_type": "execute_result"
    }
   ],
   "source": [
    "y_test[:5]"
   ]
  },
  {
   "cell_type": "code",
   "execution_count": 68,
   "id": "c9199141-0884-4d48-9bb9-6b3b0b737789",
   "metadata": {},
   "outputs": [
    {
     "data": {
      "text/plain": [
       "array([8.355])"
      ]
     },
     "execution_count": 68,
     "metadata": {},
     "output_type": "execute_result"
    }
   ],
   "source": [
    "predictions[:5]"
   ]
  },
  {
   "cell_type": "code",
   "execution_count": 70,
   "id": "1d9d1bb9-4f51-4575-99ae-0fb80dbfcc38",
   "metadata": {},
   "outputs": [
    {
     "name": "stdout",
     "output_type": "stream",
     "text": [
      "Mean Squared Error: 0.021024999999999877\n",
      "Mean Absolute Error: 0.14499999999999957\n",
      "R^2 Score: nan\n"
     ]
    },
    {
     "name": "stderr",
     "output_type": "stream",
     "text": [
      "C:\\Users\\91981\\AppData\\Local\\Programs\\Python\\Python312\\Lib\\site-packages\\sklearn\\metrics\\_regression.py:996: UndefinedMetricWarning: R^2 score is not well-defined with less than two samples.\n",
      "  warnings.warn(msg, UndefinedMetricWarning)\n"
     ]
    }
   ],
   "source": [
    "from sklearn.metrics import mean_squared_error, mean_absolute_error, r2_score\n",
    "\n",
    "# Make predictions with the pipeline\n",
    "predictions = pipeline.predict(X_test)\n",
    "\n",
    "# Calculate and print regression metrics\n",
    "mse = mean_squared_error(y_test, predictions)\n",
    "mae = mean_absolute_error(y_test, predictions)\n",
    "r2 = r2_score(y_test, predictions)\n",
    "\n",
    "print(f\"Mean Squared Error: {mse}\")\n",
    "print(f\"Mean Absolute Error: {mae}\")\n",
    "print(f\"R^2 Score: {r2}\")\n"
   ]
  },
  {
   "cell_type": "code",
   "execution_count": 73,
   "id": "6906287d-c2d2-4150-9117-e1fe900c4e29",
   "metadata": {},
   "outputs": [
    {
     "name": "stdout",
     "output_type": "stream",
     "text": [
      "Mean Squared Error (MSE): 0.0210\n",
      "Mean Absolute Error (MAE): 0.1450\n",
      "R-squared (R^2): nan\n"
     ]
    }
   ],
   "source": [
    "print(f\"Mean Squared Error (MSE): {mse:.4f}\")\n",
    "print(f\"Mean Absolute Error (MAE): {mae:.4f}\")\n",
    "print(f\"R-squared (R^2): {r2:.4f}\")"
   ]
  },
  {
   "cell_type": "code",
   "execution_count": 75,
   "id": "4a216d29-d61d-410c-91fc-0d28d27016b0",
   "metadata": {},
   "outputs": [
    {
     "name": "stdout",
     "output_type": "stream",
     "text": [
      "                Metric     Value\n",
      "0   Mean Squared Error  0.021025\n",
      "1  Mean Absolute Error  0.145000\n",
      "2            R-squared       NaN\n"
     ]
    }
   ],
   "source": [
    "report = pd.DataFrame({\n",
    "    'Metric': ['Mean Squared Error', 'Mean Absolute Error', 'R-squared'],\n",
    "    'Value': [mse, mae, r2]\n",
    "})\n",
    "print(report)"
   ]
  },
  {
   "cell_type": "code",
   "execution_count": 78,
   "id": "7c96e950-3d47-43c5-973f-0382c0c967df",
   "metadata": {},
   "outputs": [
    {
     "data": {
      "image/png": "[encoded data removed]",
      "text/plain": [
       "<Figure size 800x200 with 1 Axes>"
      ]
     },
     "metadata": {},
     "output_type": "display_data"
    }
   ],
   "source": [
    "import seaborn as sns\n",
    "import matplotlib.pyplot as plt\n",
    "\n",
    "# Create a DataFrame to display the metrics\n",
    "report = pd.DataFrame({\n",
    "    'Metric': ['Mean Squared Error', 'Mean Absolute Error', 'R-squared'],\n",
    "    'Value': [mse, mae, r2]\n",
    "})\n",
    "\n",
    "# Set the index to the Metric column for better display\n",
    "report.set_index('Metric', inplace=True)\n",
    "\n",
    "# Create a heatmap\n",
    "plt.figure(figsize=(8, 2))\n",
    "sns.heatmap(report.T, annot=True, fmt=\".4g\", cmap=\"viridis\", cbar=False)\n",
    "plt.title('Regression Metrics')\n",
    "plt.show()\n"
   ]
  },
  {
   "cell_type": "code",
   "execution_count": null,
   "id": "5099bd79-2cc3-41fa-8471-a689ec391fe4",
   "metadata": {},
   "outputs": [],
   "source": []
  }
 ],
 "metadata": {
  "kernelspec": {
   "display_name": "Python 3 (ipykernel)",
   "language": "python",
   "name": "python3"
  },
  "language_info": {
   "codemirror_mode": {
    "name": "ipython",
    "version": 3
   },
   "file_extension": ".py",
   "mimetype": "text/x-python",
   "name": "python",
   "nbconvert_exporter": "python",
   "pygments_lexer": "ipython3",
   "version": "3.12.0"
  }
 },
 "nbformat": 4,
 "nbformat_minor": 5
}
